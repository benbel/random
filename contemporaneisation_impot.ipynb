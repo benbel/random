{
 "cells": [
  {
   "cell_type": "code",
   "execution_count": 183,
   "id": "b8bd6b06",
   "metadata": {},
   "outputs": [],
   "source": [
    "import numpy as np\n",
    "import pandas as pd"
   ]
  },
  {
   "cell_type": "code",
   "execution_count": 184,
   "id": "3a18fd1f",
   "metadata": {},
   "outputs": [],
   "source": [
    "taux_inflation = 1 + 10/100\n",
    "taux_revalorisation_bareme = 1 + 5/100"
   ]
  },
  {
   "cell_type": "code",
   "execution_count": 185,
   "id": "6851c4f6",
   "metadata": {},
   "outputs": [],
   "source": [
    "taux = np.array([0, 0.1, 0.2, 0.5, 0.75])\n",
    "seuils_tranches_initiales = np.array([0, 20000, 30000, 40000, 50000, np.inf])\n",
    "\n",
    "def impots(revenu, seuils_tranches, taux):\n",
    "    assert len(seuils_tranches) == len(taux) + 1\n",
    "    return np.sum(np.diff(np.minimum(np.array([revenu]), seuils_tranches))  * taux)"
   ]
  },
  {
   "cell_type": "code",
   "execution_count": 186,
   "id": "50aa4174",
   "metadata": {},
   "outputs": [],
   "source": [
    "def calcule_vecteur_inflateur(nombre_annees, taux):\n",
    "    return  np.cumprod([1] + [taux for _ in range(nombre_annees - 1)])"
   ]
  },
  {
   "cell_type": "code",
   "execution_count": 187,
   "id": "a161466b",
   "metadata": {},
   "outputs": [],
   "source": [
    "nombre_annees = 10\n",
    "annees = range(nombre_annees)\n",
    "\n",
    "inflateur_prix = calcule_vecteur_inflateur(nombre_annees, taux_inflation)\n",
    "inflateur_baremes = calcule_vecteur_inflateur(nombre_annees, taux_revalorisation_bareme)\n",
    "\n",
    "seuils_par_annee = {\n",
    "    annee: seuils_tranches_initiales * inflateur_baremes[annee]\n",
    "    for annee in annees\n",
    "    }\n",
    "\n",
    "impots_par_annee = {\n",
    "    annee: lambda revenu: impots(revenu, seuils_par_annee[annee], taux)\n",
    "    for annee in annees\n",
    "    }"
   ]
  },
  {
   "cell_type": "code",
   "execution_count": 194,
   "id": "b5664160",
   "metadata": {},
   "outputs": [
    {
     "data": {
      "text/plain": [
       "array([     0.,      0.,  40000.,  55000.,  70000.,  85000., 100000.,\n",
       "            0.,      0.,      0.])"
      ]
     },
     "execution_count": 194,
     "metadata": {},
     "output_type": "execute_result"
    }
   ],
   "source": [
    "revenus_euros_constants = np.concatenate([2*[0], np.linspace(40000, 100000, 5), (nombre_annees - 5 - 2)* [0]])\n",
    "revenus_euros_constants"
   ]
  },
  {
   "cell_type": "code",
   "execution_count": 195,
   "id": "bd3eaab5",
   "metadata": {},
   "outputs": [
    {
     "data": {
      "text/plain": [
       "array([     0.  ,      0.  ,  48400.  ,  73205.  , 102487.  , 136893.35,\n",
       "       177156.1 ,      0.  ,      0.  ,      0.  ])"
      ]
     },
     "execution_count": 195,
     "metadata": {},
     "output_type": "execute_result"
    }
   ],
   "source": [
    "revenus_euros_courants = revenus_euros_constants * inflateur_prix\n",
    "revenus_euros_courants"
   ]
  },
  {
   "cell_type": "code",
   "execution_count": 196,
   "id": "927ee556",
   "metadata": {},
   "outputs": [
    {
     "data": {
      "text/plain": [
       "array([     0.  ,  48400.  ,  73205.  , 102487.  , 136893.35, 177156.1 ,\n",
       "            0.  ,      0.  ,      0.  ,      0.  ])"
      ]
     },
     "execution_count": 196,
     "metadata": {},
     "output_type": "execute_result"
    }
   ],
   "source": [
    "revenus_passes = np.concatenate([revenus_euros_courants[1:], [0]])\n",
    "revenus_passes"
   ]
  },
  {
   "cell_type": "code",
   "execution_count": 197,
   "id": "1bbc8b7d",
   "metadata": {},
   "outputs": [],
   "source": [
    "def calcul_impots(impots_par_annee, revenu):\n",
    "    ensemble_des_impots = [\n",
    "        impots_par_annee[annee](revenu[annee])\n",
    "        for annee in set(impots_par_annee)\n",
    "        ]\n",
    "    return ensemble_des_impots"
   ]
  },
  {
   "cell_type": "code",
   "execution_count": 198,
   "id": "9998e43e",
   "metadata": {},
   "outputs": [
    {
     "data": {
      "text/plain": [
       "[0.0,\n",
       " 0.0,\n",
       " 1923.3589201074205,\n",
       " 10229.920328365239,\n",
       " 31101.067628633806,\n",
       " 56905.830128633825,\n",
       " 87102.89262863384,\n",
       " 0.0,\n",
       " 0.0,\n",
       " 0.0]"
      ]
     },
     "execution_count": 198,
     "metadata": {},
     "output_type": "execute_result"
    }
   ],
   "source": [
    "calcul_impots(impots_par_annee, revenus_euros_courants)  "
   ]
  },
  {
   "cell_type": "code",
   "execution_count": 199,
   "id": "cdc1fc3c",
   "metadata": {},
   "outputs": [
    {
     "data": {
      "text/plain": [
       "[0.0,\n",
       " 1923.3589201074205,\n",
       " 10229.920328365239,\n",
       " 31101.067628633806,\n",
       " 56905.830128633825,\n",
       " 87102.89262863384,\n",
       " 0.0,\n",
       " 0.0,\n",
       " 0.0,\n",
       " 0.0]"
      ]
     },
     "execution_count": 199,
     "metadata": {},
     "output_type": "execute_result"
    }
   ],
   "source": [
    "calcul_impots(impots_par_annee, revenus_passes)"
   ]
  },
  {
   "cell_type": "code",
   "execution_count": null,
   "id": "d689bfd2",
   "metadata": {},
   "outputs": [],
   "source": []
  },
  {
   "cell_type": "code",
   "execution_count": null,
   "id": "1de56463",
   "metadata": {},
   "outputs": [],
   "source": []
  },
  {
   "cell_type": "code",
   "execution_count": null,
   "id": "68a6c2ba",
   "metadata": {},
   "outputs": [],
   "source": []
  },
  {
   "cell_type": "code",
   "execution_count": null,
   "id": "41dce579",
   "metadata": {},
   "outputs": [],
   "source": []
  },
  {
   "cell_type": "code",
   "execution_count": null,
   "id": "cf38bf3c",
   "metadata": {},
   "outputs": [],
   "source": []
  },
  {
   "cell_type": "code",
   "execution_count": null,
   "id": "cd8ce01f",
   "metadata": {},
   "outputs": [],
   "source": []
  },
  {
   "cell_type": "code",
   "execution_count": null,
   "id": "4aa41874",
   "metadata": {},
   "outputs": [],
   "source": []
  },
  {
   "cell_type": "code",
   "execution_count": null,
   "id": "54f4596a",
   "metadata": {},
   "outputs": [],
   "source": []
  },
  {
   "cell_type": "code",
   "execution_count": null,
   "id": "2683fc70",
   "metadata": {},
   "outputs": [],
   "source": []
  },
  {
   "cell_type": "code",
   "execution_count": null,
   "id": "ecb3dc6c",
   "metadata": {},
   "outputs": [],
   "source": []
  },
  {
   "cell_type": "code",
   "execution_count": null,
   "id": "b8248453",
   "metadata": {},
   "outputs": [],
   "source": []
  }
 ],
 "metadata": {
  "kernelspec": {
   "display_name": "Python 3 (ipykernel)",
   "language": "python",
   "name": "python3"
  },
  "language_info": {
   "codemirror_mode": {
    "name": "ipython",
    "version": 3
   },
   "file_extension": ".py",
   "mimetype": "text/x-python",
   "name": "python",
   "nbconvert_exporter": "python",
   "pygments_lexer": "ipython3",
   "version": "3.9.2"
  }
 },
 "nbformat": 4,
 "nbformat_minor": 5
}
